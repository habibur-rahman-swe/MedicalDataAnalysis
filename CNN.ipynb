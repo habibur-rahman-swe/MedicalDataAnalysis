{
  "nbformat": 4,
  "nbformat_minor": 0,
  "metadata": {
    "colab": {
      "provenance": [],
      "authorship_tag": "ABX9TyPzYu8H8w42+1C8XOz67cXg",
      "include_colab_link": true
    },
    "kernelspec": {
      "name": "python3",
      "display_name": "Python 3"
    },
    "language_info": {
      "name": "python"
    }
  },
  "cells": [
    {
      "cell_type": "markdown",
      "metadata": {
        "id": "view-in-github",
        "colab_type": "text"
      },
      "source": [
        "<a href=\"https://colab.research.google.com/github/habibur-rahman-swe/MedicalImageProcessing/blob/udemy/CNN.ipynb\" target=\"_parent\"><img src=\"https://colab.research.google.com/assets/colab-badge.svg\" alt=\"Open In Colab\"/></a>"
      ]
    },
    {
      "cell_type": "code",
      "execution_count": 1,
      "metadata": {
        "id": "EPd9Tr5FKeIM"
      },
      "outputs": [],
      "source": [
        "import torch\n",
        "import torch.nn as nn\n",
        "import torch.nn.functional as F\n",
        "from torch.utils.data import DataLoader\n",
        "from torchvision import datasets, transforms\n",
        "from torchvision.utils import make_grid\n",
        "\n",
        "import numpy as np\n",
        "import pandas as pd\n",
        "from sklearn.metrics import confusion_matrix\n",
        "import matplotlib.pyplot as plt\n",
        "%matplotlib inline"
      ]
    },
    {
      "cell_type": "code",
      "source": [
        "transform = transforms.Compose([\n",
        "    transforms.ToTensor(),  # Convert images to tensors\n",
        "    transforms.Normalize((0.5,), (0.5,))  # Normalize images\n",
        "])"
      ],
      "metadata": {
        "id": "TeYeAU02kttG"
      },
      "execution_count": 2,
      "outputs": []
    },
    {
      "cell_type": "code",
      "source": [
        "train_data = datasets.MNIST(root='../Data', train=True, download=True, transform=transform)"
      ],
      "metadata": {
        "id": "bBcNvXDRmmhM",
        "colab": {
          "base_uri": "https://localhost:8080/"
        },
        "outputId": "7d41ad93-444c-416b-a27c-2c01f4e5038c"
      },
      "execution_count": 3,
      "outputs": [
        {
          "output_type": "stream",
          "name": "stdout",
          "text": [
            "Downloading http://yann.lecun.com/exdb/mnist/train-images-idx3-ubyte.gz\n",
            "Downloading http://yann.lecun.com/exdb/mnist/train-images-idx3-ubyte.gz to ../Data/MNIST/raw/train-images-idx3-ubyte.gz\n"
          ]
        },
        {
          "output_type": "stream",
          "name": "stderr",
          "text": [
            "100%|██████████| 9912422/9912422 [00:00<00:00, 120784135.63it/s]\n"
          ]
        },
        {
          "output_type": "stream",
          "name": "stdout",
          "text": [
            "Extracting ../Data/MNIST/raw/train-images-idx3-ubyte.gz to ../Data/MNIST/raw\n",
            "\n",
            "Downloading http://yann.lecun.com/exdb/mnist/train-labels-idx1-ubyte.gz\n",
            "Downloading http://yann.lecun.com/exdb/mnist/train-labels-idx1-ubyte.gz to ../Data/MNIST/raw/train-labels-idx1-ubyte.gz\n"
          ]
        },
        {
          "output_type": "stream",
          "name": "stderr",
          "text": [
            "100%|██████████| 28881/28881 [00:00<00:00, 62089028.10it/s]\n"
          ]
        },
        {
          "output_type": "stream",
          "name": "stdout",
          "text": [
            "Extracting ../Data/MNIST/raw/train-labels-idx1-ubyte.gz to ../Data/MNIST/raw\n",
            "\n",
            "Downloading http://yann.lecun.com/exdb/mnist/t10k-images-idx3-ubyte.gz\n",
            "Downloading http://yann.lecun.com/exdb/mnist/t10k-images-idx3-ubyte.gz to ../Data/MNIST/raw/t10k-images-idx3-ubyte.gz\n"
          ]
        },
        {
          "output_type": "stream",
          "name": "stderr",
          "text": [
            "100%|██████████| 1648877/1648877 [00:00<00:00, 49799398.00it/s]\n"
          ]
        },
        {
          "output_type": "stream",
          "name": "stdout",
          "text": [
            "Extracting ../Data/MNIST/raw/t10k-images-idx3-ubyte.gz to ../Data/MNIST/raw\n",
            "\n",
            "Downloading http://yann.lecun.com/exdb/mnist/t10k-labels-idx1-ubyte.gz\n",
            "Downloading http://yann.lecun.com/exdb/mnist/t10k-labels-idx1-ubyte.gz to ../Data/MNIST/raw/t10k-labels-idx1-ubyte.gz\n"
          ]
        },
        {
          "output_type": "stream",
          "name": "stderr",
          "text": [
            "100%|██████████| 4542/4542 [00:00<00:00, 14101057.56it/s]"
          ]
        },
        {
          "output_type": "stream",
          "name": "stdout",
          "text": [
            "Extracting ../Data/MNIST/raw/t10k-labels-idx1-ubyte.gz to ../Data/MNIST/raw\n",
            "\n"
          ]
        },
        {
          "output_type": "stream",
          "name": "stderr",
          "text": [
            "\n"
          ]
        }
      ]
    },
    {
      "cell_type": "code",
      "source": [
        "test_data = datasets.MNIST(root='../Data', train=False, download=True, transform=transform)"
      ],
      "metadata": {
        "id": "fU6tQwEGm0KY"
      },
      "execution_count": 4,
      "outputs": []
    },
    {
      "cell_type": "code",
      "source": [
        "train_data"
      ],
      "metadata": {
        "colab": {
          "base_uri": "https://localhost:8080/"
        },
        "id": "OiiDSEu6nK7c",
        "outputId": "23bb5bff-67f4-4fce-aede-0c461aecfa26"
      },
      "execution_count": 5,
      "outputs": [
        {
          "output_type": "execute_result",
          "data": {
            "text/plain": [
              "Dataset MNIST\n",
              "    Number of datapoints: 60000\n",
              "    Root location: ../Data\n",
              "    Split: Train\n",
              "    StandardTransform\n",
              "Transform: Compose(\n",
              "               ToTensor()\n",
              "               Normalize(mean=(0.5,), std=(0.5,))\n",
              "           )"
            ]
          },
          "metadata": {},
          "execution_count": 5
        }
      ]
    },
    {
      "cell_type": "code",
      "source": [
        "test_data"
      ],
      "metadata": {
        "colab": {
          "base_uri": "https://localhost:8080/"
        },
        "id": "9rRbUDa-nQsj",
        "outputId": "9818427e-9d5e-439d-e352-eb871d8349d4"
      },
      "execution_count": 6,
      "outputs": [
        {
          "output_type": "execute_result",
          "data": {
            "text/plain": [
              "Dataset MNIST\n",
              "    Number of datapoints: 10000\n",
              "    Root location: ../Data\n",
              "    Split: Test\n",
              "    StandardTransform\n",
              "Transform: Compose(\n",
              "               ToTensor()\n",
              "               Normalize(mean=(0.5,), std=(0.5,))\n",
              "           )"
            ]
          },
          "metadata": {},
          "execution_count": 6
        }
      ]
    },
    {
      "cell_type": "code",
      "source": [
        "train_loader = DataLoader(train_data, batch_size=10, shuffle=True)\n",
        "test_loader = DataLoader(test_data, batch_size=10, shuffle=False)"
      ],
      "metadata": {
        "id": "81rck1PDnRaL"
      },
      "execution_count": 7,
      "outputs": []
    },
    {
      "cell_type": "code",
      "source": [
        "class ConvolutionalNetwork(nn.Module):\n",
        "  def __init__(self):\n",
        "    super().__init__()\n",
        "    self.conv1 = nn.Conv2d(1, 6, 3, 1)\n",
        "    self.conv2 = nn.Conv2d(6, 16, 3, 1)\n",
        "    self.fc1 = nn.Linear(5*5*16, 120)\n",
        "    self.fc2 = nn.Linear(120, 84)\n",
        "    self.fc3 = nn.Linear(84, 10)\n",
        "\n",
        "  def forward(self, X):\n",
        "    X = F.relu(self.conv1(X))\n",
        "    X = F.max_pool2d(X, 2, 2)\n",
        "    X = F.relu(self.conv2(X))\n",
        "    X = F.max_pool2d(X, 2, 2)\n",
        "    X = X.view(-1, 16*5*5)\n",
        "\n",
        "    X = torch.flatten(X, 1)\n",
        "\n",
        "    X = F.relu(self.fc1(X))\n",
        "    X = F.relu(self.fc2(X))\n",
        "    X = self.fc3(X)\n",
        "    return F.log_softmax(X, dim=1)"
      ],
      "metadata": {
        "id": "Vr2cT4cO6Wsg"
      },
      "execution_count": 8,
      "outputs": []
    },
    {
      "cell_type": "code",
      "source": [
        "torch.manual_seed(42)\n",
        "model = ConvolutionalNetwork()\n",
        "model"
      ],
      "metadata": {
        "colab": {
          "base_uri": "https://localhost:8080/"
        },
        "id": "KSb9bKWh13Cw",
        "outputId": "076b9262-060e-41b2-b86a-4a9a9ec96e4d"
      },
      "execution_count": 9,
      "outputs": [
        {
          "output_type": "execute_result",
          "data": {
            "text/plain": [
              "ConvolutionalNetwork(\n",
              "  (conv1): Conv2d(1, 6, kernel_size=(3, 3), stride=(1, 1))\n",
              "  (conv2): Conv2d(6, 16, kernel_size=(3, 3), stride=(1, 1))\n",
              "  (fc1): Linear(in_features=400, out_features=120, bias=True)\n",
              "  (fc2): Linear(in_features=120, out_features=84, bias=True)\n",
              "  (fc3): Linear(in_features=84, out_features=10, bias=True)\n",
              ")"
            ]
          },
          "metadata": {},
          "execution_count": 9
        }
      ]
    },
    {
      "cell_type": "code",
      "source": [
        "criterion = nn.CrossEntropyLoss()\n",
        "optimizer = torch.optim.Adam(model.parameters(), lr=0.001)"
      ],
      "metadata": {
        "id": "QZTuj_re4wzQ"
      },
      "execution_count": 10,
      "outputs": []
    },
    {
      "cell_type": "code",
      "source": [
        "import time\n",
        "start_time = time.time()\n",
        "\n",
        "# Variables(trackers)\n",
        "epochs = 5\n",
        "train_losses = []\n",
        "test_losses = []\n",
        "train_correct = []\n",
        "test_correct = []\n",
        "\n",
        "# for loop epochs\n",
        "for i in range(epochs):\n",
        "\n",
        "  trn_corr = 0\n",
        "  tst_corr = 0\n",
        "\n",
        "  # train\n",
        "  for b, (X_train, y_train) in enumerate(train_loader):\n",
        "    b += 1\n",
        "\n",
        "    y_pred = model(X_train) # Not flatten\n",
        "\n",
        "    loss = criterion(y_pred, y_train)\n",
        "\n",
        "    predicted = torch.max(y_pred.data, 1)[1]\n",
        "    batch_corr = (predicted == y_train).sum() # True / False sum()\n",
        "    trn_corr += batch_corr\n",
        "\n",
        "    optimizer.zero_grad()\n",
        "    loss.backward()\n",
        "    optimizer.step()\n",
        "\n",
        "    if (b % 600 == 0):\n",
        "      print(f\"EPOCH: {i} BATCH: {b} LOSS: {loss.item()}\")\n",
        "\n",
        "  train_losses.append(loss)\n",
        "  train_correct.append(trn_corr)\n",
        "\n",
        "  # test\n",
        "  with torch.no_grad():\n",
        "    for b, (X_test, y_test) in enumerate(test_loader):\n",
        "\n",
        "      y_val = model(X_test)\n",
        "\n",
        "      predicted = torch.max(y_val.data, 1)[1]\n",
        "      tst_corr += (predicted == y_test).sum()\n",
        "\n",
        "\n",
        "  loss = criterion(y_val, y_test)\n",
        "  test_losses.append(loss)\n",
        "  test_correct.append(tst_corr)\n",
        "\n",
        "\n",
        "current_time = time.time()\n",
        "total = current_time - start_time\n",
        "print(f\"Training took {total / 60} minutes\")"
      ],
      "metadata": {
        "colab": {
          "base_uri": "https://localhost:8080/"
        },
        "id": "QTFkwBdD5Pkw",
        "outputId": "9379fd56-c7b0-4e9a-c37b-816f7a6caf26"
      },
      "execution_count": 11,
      "outputs": [
        {
          "output_type": "stream",
          "name": "stdout",
          "text": [
            "EPOCH: 0 BATCH: 600 LOSS: 0.020343977957963943\n",
            "EPOCH: 0 BATCH: 1200 LOSS: 0.02844063565135002\n",
            "EPOCH: 0 BATCH: 1800 LOSS: 0.27004510164260864\n",
            "EPOCH: 0 BATCH: 2400 LOSS: 0.008614985272288322\n",
            "EPOCH: 0 BATCH: 3000 LOSS: 0.003369278507307172\n",
            "EPOCH: 0 BATCH: 3600 LOSS: 0.0017438835930079222\n",
            "EPOCH: 0 BATCH: 4200 LOSS: 0.5683609247207642\n",
            "EPOCH: 0 BATCH: 4800 LOSS: 0.045028217136859894\n",
            "EPOCH: 0 BATCH: 5400 LOSS: 0.0014575404347851872\n",
            "EPOCH: 0 BATCH: 6000 LOSS: 0.012952694669365883\n",
            "EPOCH: 1 BATCH: 600 LOSS: 0.0010699733393266797\n",
            "EPOCH: 1 BATCH: 1200 LOSS: 0.07107662409543991\n",
            "EPOCH: 1 BATCH: 1800 LOSS: 0.00048681447515264153\n",
            "EPOCH: 1 BATCH: 2400 LOSS: 0.00036020338302478194\n",
            "EPOCH: 1 BATCH: 3000 LOSS: 0.018994266167283058\n",
            "EPOCH: 1 BATCH: 3600 LOSS: 4.2351930460426956e-05\n",
            "EPOCH: 1 BATCH: 4200 LOSS: 0.0002900566905736923\n",
            "EPOCH: 1 BATCH: 4800 LOSS: 0.004322708584368229\n",
            "EPOCH: 1 BATCH: 5400 LOSS: 0.00033448883914388716\n",
            "EPOCH: 1 BATCH: 6000 LOSS: 0.4747803211212158\n",
            "EPOCH: 2 BATCH: 600 LOSS: 0.00021832417405676097\n",
            "EPOCH: 2 BATCH: 1200 LOSS: 0.005768090020865202\n",
            "EPOCH: 2 BATCH: 1800 LOSS: 0.002041015774011612\n",
            "EPOCH: 2 BATCH: 2400 LOSS: 0.0015070715453475714\n",
            "EPOCH: 2 BATCH: 3000 LOSS: 0.2492821216583252\n",
            "EPOCH: 2 BATCH: 3600 LOSS: 0.15494324266910553\n",
            "EPOCH: 2 BATCH: 4200 LOSS: 0.05041692405939102\n",
            "EPOCH: 2 BATCH: 4800 LOSS: 0.005060404539108276\n",
            "EPOCH: 2 BATCH: 5400 LOSS: 0.0020337910391390324\n",
            "EPOCH: 2 BATCH: 6000 LOSS: 0.00013591450988315046\n",
            "EPOCH: 3 BATCH: 600 LOSS: 0.0013413818087428808\n",
            "EPOCH: 3 BATCH: 1200 LOSS: 0.0002689327229745686\n",
            "EPOCH: 3 BATCH: 1800 LOSS: 0.0008495473302900791\n",
            "EPOCH: 3 BATCH: 2400 LOSS: 0.00017809469136409461\n",
            "EPOCH: 3 BATCH: 3000 LOSS: 0.04555525630712509\n",
            "EPOCH: 3 BATCH: 3600 LOSS: 0.00037625397089868784\n",
            "EPOCH: 3 BATCH: 4200 LOSS: 0.0022189298179000616\n",
            "EPOCH: 3 BATCH: 4800 LOSS: 0.046612292528152466\n",
            "EPOCH: 3 BATCH: 5400 LOSS: 0.058800242841243744\n",
            "EPOCH: 3 BATCH: 6000 LOSS: 7.0322843384929e-05\n",
            "EPOCH: 4 BATCH: 600 LOSS: 0.03780737519264221\n",
            "EPOCH: 4 BATCH: 1200 LOSS: 0.0020118560642004013\n",
            "EPOCH: 4 BATCH: 1800 LOSS: 4.291503046260914e-06\n",
            "EPOCH: 4 BATCH: 2400 LOSS: 0.00031428615329787135\n",
            "EPOCH: 4 BATCH: 3000 LOSS: 0.0017455881461501122\n",
            "EPOCH: 4 BATCH: 3600 LOSS: 0.26062431931495667\n",
            "EPOCH: 4 BATCH: 4200 LOSS: 1.44360037666047e-05\n",
            "EPOCH: 4 BATCH: 4800 LOSS: 2.8798292987630703e-05\n",
            "EPOCH: 4 BATCH: 5400 LOSS: 0.0004542507231235504\n",
            "EPOCH: 4 BATCH: 6000 LOSS: 0.0005444451817311347\n",
            "Training took 4.565640958150228 minutes\n"
          ]
        }
      ]
    },
    {
      "cell_type": "code",
      "source": [
        "import numpy as np\n",
        "\n",
        "# Assuming train_losses is a list of PyTorch tensors\n",
        "train_losses_np = [tensor.detach().numpy() for tensor in train_losses]\n",
        "test_losses_np = [tensor.detach().numpy() for tensor in test_losses]\n",
        "\n",
        "plt.plot(test_losses_np, label='Validation Loss')\n",
        "plt.plot(train_losses_np, label='Training Loss')\n",
        "plt.title('Loss at epoch')\n",
        "plt.legend()"
      ],
      "metadata": {
        "id": "awNUxIPO5pTH",
        "colab": {
          "base_uri": "https://localhost:8080/",
          "height": 469
        },
        "outputId": "5db672ea-4fe4-4394-8be1-85d49022277c"
      },
      "execution_count": 12,
      "outputs": [
        {
          "output_type": "execute_result",
          "data": {
            "text/plain": [
              "<matplotlib.legend.Legend at 0x7b56317b9e10>"
            ]
          },
          "metadata": {},
          "execution_count": 12
        },
        {
          "output_type": "display_data",
          "data": {
            "text/plain": [
              "<Figure size 640x480 with 1 Axes>"
            ],
            "image/png": "[encoded data removed]"
          },
          "metadata": {}
        }
      ]
    },
    {
      "cell_type": "code",
      "source": [
        "import numpy as np\n",
        "\n",
        "train_losses_np = [t / 600 for t in train_correct]\n",
        "test_losses_np = [6 / 100 for t in test_correct]\n",
        "\n",
        "plt.plot(train_losses_np, label='Training Accuracy')\n",
        "plt.plot(test_losses_np, label='Validation Accuracy')\n",
        "plt.title('Accuracy at the end of each epoch')\n",
        "plt.legend()"
      ],
      "metadata": {
        "colab": {
          "base_uri": "https://localhost:8080/",
          "height": 469
        },
        "id": "KUNnyIX645Rj",
        "outputId": "545d839f-8e99-46d7-9cd8-1ec2c56752a8"
      },
      "execution_count": 13,
      "outputs": [
        {
          "output_type": "execute_result",
          "data": {
            "text/plain": [
              "<matplotlib.legend.Legend at 0x7b5630dcb7c0>"
            ]
          },
          "metadata": {},
          "execution_count": 13
        },
        {
          "output_type": "display_data",
          "data": {
            "text/plain": [
              "<Figure size 640x480 with 1 Axes>"
            ],
            "image/png": "[encoded data removed]"
          },
          "metadata": {}
        }
      ]
    },
    {
      "cell_type": "code",
      "source": [
        "test_load_all = DataLoader(test_data, batch_size=10000, shuffle=False)"
      ],
      "metadata": {
        "id": "qzXc-mFZ-MzH"
      },
      "execution_count": 14,
      "outputs": []
    },
    {
      "cell_type": "code",
      "source": [
        "with torch.no_grad():\n",
        "  correct = 0\n",
        "  for X_test, y_test in test_load_all:\n",
        "    y_val = model(X_test)\n",
        "    predicted = torch.max(y_val, 1)[1]\n",
        "    correct += (predicted == y_test).sum()"
      ],
      "metadata": {
        "id": "TOGJpW8Bbt2F"
      },
      "execution_count": 15,
      "outputs": []
    },
    {
      "cell_type": "code",
      "source": [
        "correct.item() / len(test_data)"
      ],
      "metadata": {
        "colab": {
          "base_uri": "https://localhost:8080/"
        },
        "id": "l3Cf51fncHlE",
        "outputId": "7c6ae254-5576-4b9f-bb36-98881cde36af"
      },
      "execution_count": 16,
      "outputs": [
        {
          "output_type": "execute_result",
          "data": {
            "text/plain": [
              "0.987"
            ]
          },
          "metadata": {},
          "execution_count": 16
        }
      ]
    },
    {
      "cell_type": "code",
      "source": [
        "np.set_printoptions(formatter=dict(int=lambda x : f'{x:4}'))\n",
        "print(np.arange(10).reshape(1, 10))\n",
        "print()\n",
        "\n",
        "print(confusion_matrix(predicted.view(-1), y_test.view(-1)))"
      ],
      "metadata": {
        "colab": {
          "base_uri": "https://localhost:8080/"
        },
        "id": "yzvXuWqpcL58",
        "outputId": "5574df5f-98fb-4676-a852-1387c4a1851f"
      },
      "execution_count": 19,
      "outputs": [
        {
          "output_type": "stream",
          "name": "stdout",
          "text": [
            "[[   0    1    2    3    4    5    6    7    8    9]]\n",
            "\n",
            "[[ 973    0    0    0    0    2    4    0    1    0]\n",
            " [   0 1134    1    0    0    0    4    5    0    0]\n",
            " [   0    1 1026    2    1    0    1   10    1    0]\n",
            " [   0    0    0 1001    0   11    0    0    3    0]\n",
            " [   1    0    0    0  979    0    5    2    3   15]\n",
            " [   1    0    0    2    0  868    0    0    0    4]\n",
            " [   1    0    0    0    1    3  942    0    0    0]\n",
            " [   2    0    3    1    0    0    0 1004    0    4]\n",
            " [   2    0    2    4    0    8    2    5  963    6]\n",
            " [   0    0    0    0    1    0    0    2    3  980]]\n"
          ]
        }
      ]
    },
    {
      "cell_type": "code",
      "source": [
        "torch.__version__"
      ],
      "metadata": {
        "colab": {
          "base_uri": "https://localhost:8080/",
          "height": 35
        },
        "id": "HXMznjCNwZBq",
        "outputId": "a85c892d-f5b9-4d8b-9e76-86aa01327137"
      },
      "execution_count": 20,
      "outputs": [
        {
          "output_type": "execute_result",
          "data": {
            "text/plain": [
              "'2.2.1+cu121'"
            ],
            "application/vnd.google.colaboratory.intrinsic+json": {
              "type": "string"
            }
          },
          "metadata": {},
          "execution_count": 20
        }
      ]
    },
    {
      "cell_type": "code",
      "source": [],
      "metadata": {
        "id": "AJDXsSO-waeo"
      },
      "execution_count": null,
      "outputs": []
    }
  ]
}